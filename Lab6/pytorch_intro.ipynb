{
  "cells": [
    {
      "cell_type": "markdown",
      "metadata": {
        "id": "k1IDcO2nv4T3"
      },
      "source": [
        "# Part 1: Exploring Tensors"
      ]
    },
    {
      "cell_type": "code",
      "execution_count": 15,
      "metadata": {
        "colab": {
          "base_uri": "https://localhost:8080/"
        },
        "id": "rytdjl65ethz",
        "outputId": "741fd50c-8479-4230-ca73-e3effca16b56"
      },
      "outputs": [
        {
          "name": "stdout",
          "output_type": "stream",
          "text": [
            "=== Task 1.1: Creating Tensors ===\n",
            "Tensor from list:\n",
            "tensor([[1, 2],\n",
            "        [3, 4]])\n",
            "\n",
            "Tensor from NumPy array:\n",
            "tensor([[1, 2],\n",
            "        [3, 4]])\n",
            "\n",
            "Ones Tensor:\n",
            "tensor([[1, 1],\n",
            "        [1, 1]])\n",
            "\n",
            "Random Tensor:\n",
            "tensor([[0.9129, 0.2771],\n",
            "        [0.8289, 0.3624]])\n",
            "\n",
            "Shape: torch.Size([2, 2]), dtype: torch.float32, device: cpu\n",
            "\n"
          ]
        }
      ],
      "source": [
        "import torch\n",
        "import numpy as np\n",
        "from torch import nn\n",
        "\n",
        "# Task 1.1: Creating Tensors\n",
        "print(\"=== Task 1.1: Creating Tensors ===\")\n",
        "\n",
        "data = [[1, 2], [3, 4]]\n",
        "x_data = torch.tensor(data)\n",
        "print(f\"Tensor from list:\\n{x_data}\\n\")\n",
        "\n",
        "np_array = np.array(data)\n",
        "x_np = torch.from_numpy(np_array)\n",
        "print(f\"Tensor from NumPy array:\\n{x_np}\\n\")\n",
        "\n",
        "x_ones = torch.ones_like(x_data)\n",
        "print(f\"Ones Tensor:\\n{x_ones}\\n\")\n",
        "\n",
        "x_rand = torch.rand_like(x_data, dtype=torch.float)\n",
        "print(f\"Random Tensor:\\n{x_rand}\\n\")\n",
        "\n",
        "print(f\"Shape: {x_rand.shape}, dtype: {x_rand.dtype}, device: {x_rand.device}\\n\")"
      ]
    },
    {
      "cell_type": "code",
      "execution_count": 16,
      "metadata": {
        "colab": {
          "base_uri": "https://localhost:8080/"
        },
        "id": "0WBU2wrtvt19",
        "outputId": "2500441b-6b73-4478-c777-80cb6c91449f"
      },
      "outputs": [
        {
          "name": "stdout",
          "output_type": "stream",
          "text": [
            "=== Task 1.2: Tensor Operations ===\n",
            "x_data + x_data:\n",
            "tensor([[2, 4],\n",
            "        [6, 8]])\n",
            "\n",
            "x_data * 5:\n",
            "tensor([[ 5, 10],\n",
            "        [15, 20]])\n",
            "\n",
            "x_data @ x_data.T:\n",
            "tensor([[ 5, 11],\n",
            "        [11, 25]])\n",
            "\n"
          ]
        }
      ],
      "source": [
        "# Task 1.2: Tensor operations\n",
        "print(\"=== Task 1.2: Tensor Operations ===\")\n",
        "print(f\"x_data + x_data:\\n{x_data + x_data}\\n\")\n",
        "print(f\"x_data * 5:\\n{x_data * 5}\\n\")\n",
        "print(f\"x_data @ x_data.T:\\n{x_data @ x_data.T}\\n\")"
      ]
    },
    {
      "cell_type": "code",
      "execution_count": 17,
      "metadata": {
        "colab": {
          "base_uri": "https://localhost:8080/"
        },
        "id": "rFLcCfWnvwRt",
        "outputId": "ac9244e0-2f02-41cf-a70e-3cf22e4b240e"
      },
      "outputs": [
        {
          "name": "stdout",
          "output_type": "stream",
          "text": [
            "=== Task 1.3: Indexing and Slicing ===\n",
            "First row: tensor([1, 2])\n",
            "Second column: tensor([2, 4])\n",
            "Element (1,1): 4\n",
            "\n"
          ]
        }
      ],
      "source": [
        "# Task 1.3: Indexing and Slicing\n",
        "print(\"=== Task 1.3: Indexing and Slicing ===\")\n",
        "print(f\"First row: {x_data[0]}\")\n",
        "print(f\"Second column: {x_data[:, 1]}\")\n",
        "print(f\"Element (1,1): {x_data[1,1]}\\n\")"
      ]
    },
    {
      "cell_type": "code",
      "execution_count": 18,
      "metadata": {
        "colab": {
          "base_uri": "https://localhost:8080/"
        },
        "id": "9WYPCB41vyh2",
        "outputId": "92094e8d-9fc7-49dd-a516-fdadda873f3c"
      },
      "outputs": [
        {
          "name": "stdout",
          "output_type": "stream",
          "text": [
            "=== Task 1.4: Reshape ===\n",
            "Original shape: torch.Size([4, 4])\n",
            "Reshaped to (16,1): torch.Size([16, 1])\n",
            "\n"
          ]
        }
      ],
      "source": [
        "# Task 1.4: Reshaping\n",
        "print(\"=== Task 1.4: Reshape ===\")\n",
        "x = torch.rand(4,4)\n",
        "print(f\"Original shape: {x.shape}\")\n",
        "reshaped = x.view(16,1)\n",
        "print(f\"Reshaped to (16,1): {reshaped.shape}\\n\")"
      ]
    },
    {
      "cell_type": "markdown",
      "metadata": {
        "id": "pXND5Rx1v_-f"
      },
      "source": [
        "# Part 2: Autograd (Automatic Differentiation)"
      ]
    },
    {
      "cell_type": "code",
      "execution_count": 19,
      "metadata": {
        "colab": {
          "base_uri": "https://localhost:8080/"
        },
        "id": "1jZtyZktkZK7",
        "outputId": "3f318175-dc5d-4b83-96cf-95f1b56ce469"
      },
      "outputs": [
        {
          "name": "stdout",
          "output_type": "stream",
          "text": [
            "=== Part 2: Autograd ===\n",
            "x: tensor([1.], requires_grad=True)\n",
            "y: tensor([3.], grad_fn=<AddBackward0>), grad_fn: <AddBackward0 object at 0x7d7a98238e20>\n",
            "Gradient of z w.r.t x: tensor([18.])\n"
          ]
        }
      ],
      "source": [
        "print(\"=== Part 2: Autograd ===\")\n",
        "\n",
        "x = torch.ones(1, requires_grad=True)\n",
        "print(f\"x: {x}\")\n",
        "\n",
        "y = x + 2\n",
        "print(f\"y: {y}, grad_fn: {y.grad_fn}\")\n",
        "\n",
        "z = y * y * 3\n",
        "z.backward()\n",
        "print(f\"Gradient of z w.r.t x: {x.grad}\")\n",
        "\n",
        "# Explanation:\n",
        "# z = 3 * (x+2)^2 => dz/dx = 6*(x+2). With x=1 => dz/dx = 18."
      ]
    },
    {
      "cell_type": "markdown",
      "metadata": {
        "id": "idb-J0NYwE1b"
      },
      "source": [
        "# Part 3: Building a Simple Model with torch.nn"
      ]
    },
    {
      "cell_type": "code",
      "execution_count": 20,
      "metadata": {
        "colab": {
          "base_uri": "https://localhost:8080/"
        },
        "id": "H623wWcnkf1h",
        "outputId": "10a110c4-1eb6-444c-905a-e6d00e3928f3"
      },
      "outputs": [
        {
          "name": "stdout",
          "output_type": "stream",
          "text": [
            "=== Part 3.1: torch.nn.Linear ===\n",
            "Input shape: torch.Size([3, 5])\n",
            "Output shape: torch.Size([3, 2])\n",
            "Output:\n",
            "tensor([[ 0.0719, -0.7736],\n",
            "        [-0.7034, -0.0492],\n",
            "        [ 0.8157,  0.1238]], grad_fn=<AddmmBackward0>)\n",
            "\n"
          ]
        }
      ],
      "source": [
        "print(\"=== Part 3.1: torch.nn.Linear ===\")\n",
        "linear_layer = nn.Linear(in_features=5, out_features=2)\n",
        "input_tensor = torch.randn(3,5)\n",
        "output = linear_layer(input_tensor)\n",
        "print(f\"Input shape: {input_tensor.shape}\\nOutput shape: {output.shape}\\nOutput:\\n{output}\\n\")"
      ]
    },
    {
      "cell_type": "code",
      "execution_count": 21,
      "metadata": {
        "colab": {
          "base_uri": "https://localhost:8080/"
        },
        "id": "n9Rx-NbowVth",
        "outputId": "ead6bf5b-36d3-47c6-a879-0f4265dae426"
      },
      "outputs": [
        {
          "name": "stdout",
          "output_type": "stream",
          "text": [
            "=== Part 3.2: torch.nn.Embedding ===\n",
            "Input shape: torch.Size([4])\n",
            "Output shape: torch.Size([4, 3])\n",
            "Embeddings:\n",
            "tensor([[ 0.6321,  0.5991, -0.5192],\n",
            "        [-0.3467,  0.1080, -0.4335],\n",
            "        [ 0.3594,  0.2611, -1.8098],\n",
            "        [-1.6341, -1.2471,  0.7925]], grad_fn=<EmbeddingBackward0>)\n",
            "\n"
          ]
        }
      ],
      "source": [
        "\n",
        "print(\"=== Part 3.2: torch.nn.Embedding ===\")\n",
        "embedding_layer = nn.Embedding(num_embeddings=10, embedding_dim=3)\n",
        "input_indices = torch.LongTensor([1,5,0,8])\n",
        "embeddings = embedding_layer(input_indices)\n",
        "print(f\"Input shape: {input_indices.shape}\\nOutput shape: {embeddings.shape}\\nEmbeddings:\\n{embeddings}\\n\")"
      ]
    },
    {
      "cell_type": "code",
      "execution_count": null,
      "metadata": {
        "colab": {
          "base_uri": "https://localhost:8080/"
        },
        "id": "6922dJ7FwYHv",
        "outputId": "890ce86e-dcd2-427f-aecb-a80fc3aa9a0f"
      },
      "outputs": [
        {
          "name": "stdout",
          "output_type": "stream",
          "text": [
            "=== Part 3.3: Custom Model (nn.Module) ===\n",
            "Model output shape: torch.Size([1, 4, 2])\n",
            "Output:\n",
            "tensor([[[-0.2180,  0.2126],\n",
            "         [ 0.0234,  0.0381],\n",
            "         [ 0.1121, -0.0312],\n",
            "         [-0.0167,  0.1034]]], grad_fn=<ViewBackward0>)\n",
            "\n"
          ]
        }
      ],
      "source": [
        "print(\"=== Part 3.3: Custom Model (nn.Module) ===\")\n",
        "class MyModel(nn.Module):\n",
        "    def __init__(self, vocab_size, embedding_dim, hidden_dim, output_dim):\n",
        "        super(MyModel, self).__init__()\n",
        "        self.embedding = nn.Embedding(vocab_size, embedding_dim)\n",
        "        self.linear = nn.Linear(embedding_dim, hidden_dim)\n",
        "        self.activation = nn.ReLU()\n",
        "        self.output_layer = nn.Linear(hidden_dim, output_dim)\n",
        "\n",
        "    def forward(self, indices):\n",
        "        embeds = self.embedding(indices)\n",
        "        hidden = self.activation(self.linear(embeds))\n",
        "        output = self.output_layer(hidden)\n",
        "        return output\n",
        "\n",
        "model = MyModel(vocab_size=100, embedding_dim=16, hidden_dim=8, output_dim=2)\n",
        "input_data = torch.LongTensor([[1,2,5,9]])\n",
        "output_data = model(input_data)\n",
        "print(f\"Model output shape: {output_data.shape}\\nOutput:\\n{output_data}\\n\")"
      ]
    }
  ],
  "metadata": {
    "colab": {
      "provenance": []
    },
    "kernelspec": {
      "display_name": "Python 3",
      "name": "python3"
    },
    "language_info": {
      "name": "python"
    }
  },
  "nbformat": 4,
  "nbformat_minor": 0
}
